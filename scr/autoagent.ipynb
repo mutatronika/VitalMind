{
 "cells": [
  {
   "cell_type": "markdown",
   "id": "dcd4da5e",
   "metadata": {},
   "source": [
    "# Muestra básica de AutoGen\n",
    "\n",
    "En este ejemplo de código, utilizará el [AutoGen](https://aka.ms/ai-agents/autogen) Marco de IA para crear un agente básico.\n",
    "\n",
    "El objetivo de este ejemplo es mostrarle los pasos que usaremos más adelante en los ejemplos de código adicionales al implementar los diferentes patrones de agencia.\n",
    "\n",
    "[Token GIT](https://github.com/settings/personal-access-tokens)"
   ]
  },
  {
   "cell_type": "markdown",
   "id": "0e2cb064",
   "metadata": {},
   "source": [
    "## Import the Needed Python Packages "
   ]
  },
  {
   "cell_type": "code",

   "execution_count": 3,

   "id": "e393f472",
   "metadata": {},
   "outputs": [],
   "source": [
    "import os\n",
    "from dotenv import load_dotenv\n",
    "\n",
    "from autogen_agentchat.agents import AssistantAgent\n",
    "from autogen_core.models import UserMessage\n",
    "from autogen_ext.models.azure import AzureAIChatCompletionClient\n",
    "from azure.core.credentials import AzureKeyCredential\n",
    "from autogen_core import CancellationToken\n",
    "\n",
    "from autogen_agentchat.messages import TextMessage\n",
    "from autogen_agentchat.ui import Console"
   ]
  },
  {
   "cell_type": "markdown",
   "id": "403174f8",
   "metadata": {},
   "source": [
    "## Create the Client \n",
    "\n",
    "En este ejemplo, utilizaremos[GitHub Models](https://aka.ms/ai-agents-beginners/github-models) para acceder al LLM. \n",
    "\n",
    "El `model` esta definidocomo  `gpt-4o-mini`. TPrueba a cambiarlo por otro disponible en la tienda de modelos de GitHub para ver los diferentes resultados.\n",
    "\n",
    "Como prueba rápida, simplemente ejecutaremos un mensaje simple. - `¿?`. "
   ]
  },
  {
   "cell_type": "code",

   "execution_count": 4,


   "id": "c5b0fbb0",
   "metadata": {},
   "outputs": [
    {
     "name": "stdout",
     "output_type": "stream",
     "text": [
      "finish_reason='stop' content='La capital de Francia es París.' usage=RequestUsage(prompt_tokens=15, completion_tokens=8) cached=False logprobs=None thought=None\n"
     ]
    }
   ],
   "source": [
    "load_dotenv()\n",
    "client = AzureAIChatCompletionClient(\n",
    "    model=\"gpt-4o-mini\",\n",
    "    endpoint=\"https://models.inference.ai.azure.com\",\n",
    "    # To authenticate with the model you will need to generate a personal access token (PAT) in your GitHub settings.\n",
    "    # Create your PAT token by following instructions here: https://docs.github.com/en/authentication/keeping-your-account-and-data-secure/managing-your-personal-access-tokens\n",
    "    credential=AzureKeyCredential(os.getenv(\"GITHUB_TOKEN\")),\n",
    "    model_info={\n",
    "        \"json_output\": True,\n",
    "        \"function_calling\": True,\n",
    "        \"vision\": True,\n",
    "        \"family\": \"unknown\",\n",
    "    },\n",
    ")\n",
    "\n",
    "result = await client.create([UserMessage(content=\"¿Cuál es la capital de Francia?\", source=\"user\")])\n",
    "print(result)"
   ]
  },
  {
   "cell_type": "markdown",
   "id": "cd9206de",
   "metadata": {},
   "source": [
    "## Definición del agente\n",
    "\n",
    "Ahora que hemos configurado el `client` y confirmado que funciona, vamos a crear un `AssistantAgent`. EA cada agente se le puede asignar: \n",
    "**name** - Un nombre abreviado que será útil para referenciarlo en flujos de múltiples agentes.\n",
    "**model_client** - El cliente que creó en el paso anterior.\n",
    "**tools** - Herramientas disponibles que el Agente puede utilizar para completar una tarea.\n",
    "**system_message** - El metaprompt que define la tarea, el comportamiento y el tono del LLM.\n",
    "\n",
    "Puedes cambiar el mensaje del sistema para ver cómo responde el LLM. Abordaremos este tema. `tools` en la lección #4. \n"
   ]
  },
  {
   "cell_type": "code",

   "execution_count": 5,


   "id": "e2e10fb4",
   "metadata": {},
   "outputs": [],
   "source": [
    "agent = AssistantAgent(\n",
    "    name=\"assistant\",\n",
    "    model_client=client,\n",
    "    tools=[],\n",
    "    system_message=\"Eres VitalMind, un agente experto en salud. \"\n",
    ")"
   ]
  },
  {
   "cell_type": "markdown",
   "id": "5379a0b0",
   "metadata": {},
   "source": [
    "## Ejecutar el agente\n",
    "\n",
    "La siguiente función ejecutará el agente. Usamos el `on_message` método para actualizar el estado del Agente con el nuevo mensaje. \n",
    "\n",
    "En este caso, actualizamos el estado con un nuevo mensaje del usuario que es `\"Planifícame una rutina de alimentacion saludable\"`.\n",
    "\n",
    "Puede cambiar el contenido del mensaje para ver cómo el LLM responde de manera diferente."
   ]
  },
  {
   "cell_type": "code",

   "execution_count": 6,


   "id": "517bb795",
   "metadata": {},
   "outputs": [
    {
     "data": {
      "text/html": [

       "<div style='margin-bottom:10px'><div style='font-weight:bold'>User:</div><div style='margin-left:20px'>Planifícame una rutina de alimentacion saludable</div></div><div style='margin-bottom:20px'><div style='font-weight:bold'>Assistant:</div><div style='margin-left:20px; white-space:pre-wrap'>Claro, aquí tienes un plan básico de alimentación saludable que puedes seguir. Este plan está diseñado para aportarte una variedad de nutrientes a lo largo del día. Puedes ajustarlo según tus preferencias, necesidades dietéticas y niveles de actividad.\n",
       "\n",
       "### Desayuno\n",
       "- **Opción 1**: Avena cocida con rodajas de plátano y una cucharadita de miel + un puñado de nueces o almendras.\n",
       "- **Opción 2**: Yogur natural con frutos rojos y una cucharada de semillas de chía o linaza.\n",
       "- **Bebida**: Un vaso de agua o té verde.\n",
       "\n",
       "### Media Mañana\n",
       "- **Opción 1**: Una pieza de fruta (manzana, pera, naranja).\n",
       "- **Opción 2**: Un puñado de frutos secos (almendras, nueces, pistachos).\n",
       "\n",
       "### Almuerzo\n",
       "- **Opción 1**: Ensalada de espinacas, garbanzos, tomates cherry, pepino, aguacate y aderezo de aceite de oliva y limón. Acompañada de una porción de quinoa o arroz integral.\n",
       "- **Opción 2**: Filete de pollo a la plancha con brócoli al vapor y batata asada.\n",
       "- **Bebida**: Agua o infusión.\n",
       "\n",
       "### Merienda\n",
       "- **Opción 1**: Un batido de plátano, espinaca y leche vegetal (almendra, avena).\n",
       "- **Opción 2**: Hummus con zanahorias y apio.\n",
       "\n",
       "### Cena\n",
       "- **Opción 1**: Filete de pescado (salmón, atún) al horno con espárragos y una ensalada mixta.\n",
       "- **Opción 2**: Tacos de lechuga con carne magra (pavo o pollo), guacamole y pico de gallo.\n",
       "- **Bebida**: Agua.\n",
       "\n",
       "### Snack (opcional)\n",
       "- Un trozo de chocolate negro (mínimo 70% cacao) o una pieza de fruta si sientes hambre antes de dormir.\n",
       "\n",
       "### Consejos Adicionales:\n",
       "- **Hidratación**: Bebe suficiente agua a lo largo del día (aproximadamente 2 litros, ajusta según tu actividad).\n",
       "- **Porciones**: Escucha a tu cuerpo; come cuando tengas hambre y para cuando estés satisfecho.\n",
       "- **Variedad**: Intenta variar los alimentos y las preparaciones para mantener el interés y asegurarte de obtener una gama amplia de nutrientes.\n",
       "- **Suplementos**: Considera hablar con un profesional de la salud sobre si necesitas suplementos, como Omega-3 o vitaminas.\n",
       "\n",
       "Recuerda que es fundamental adaptar esta rutina a tus necesidades personales y consultar con un profesional de la salud o un nutricionista si tienes condiciones específicas de salud o necesidades dietéticas. ¡Buena suerte en tu camino hacia una alimentación más saludable!</div></div>"


      ],
      "text/plain": [
       "<IPython.core.display.HTML object>"
      ]
     },
     "metadata": {},
     "output_type": "display_data"
    }
   ],
   "source": [
    "from IPython.display import display, HTML\n",
    "\n",
    "\n",
    "async def assistant_run():\n",
    "    # Define the query\n",
    "    user_query = \"Planifícame una rutina de alimentacion saludable\"\n",
    "\n",
    "    # Start building HTML output\n",
    "    html_output = \"<div style='margin-bottom:10px'>\"\n",
    "    html_output += \"<div style='font-weight:bold'>User:</div>\"\n",
    "    html_output += f\"<div style='margin-left:20px'>{user_query}</div>\"\n",
    "    html_output += \"</div>\"\n",
    "\n",
    "    # Execute the agent response\n",
    "    response = await agent.on_messages(\n",
    "        [TextMessage(content=user_query, source=\"user\")],\n",
    "        cancellation_token=CancellationToken(),\n",
    "    )\n",
    "\n",
    "    # Add agent response to HTML\n",
    "    html_output += \"<div style='margin-bottom:20px'>\"\n",
    "    html_output += \"<div style='font-weight:bold'>Assistant:</div>\"\n",
    "    html_output += f\"<div style='margin-left:20px; white-space:pre-wrap'>{response.chat_message.content}</div>\"\n",
    "    html_output += \"</div>\"\n",
    "\n",
    "    # Display formatted HTML\n",
    "    display(HTML(html_output))\n",
    "\n",
    "# Run the function\n",
    "await assistant_run()"
   ]
  }
 ],
 "metadata": {
  "kernelspec": {
   "display_name": "venv",
   "language": "python",
   "name": "python3"
  },
  "language_info": {
   "codemirror_mode": {
    "name": "ipython",
    "version": 3
   },
   "file_extension": ".py",
   "mimetype": "text/x-python",
   "name": "python",
   "nbconvert_exporter": "python",
   "pygments_lexer": "ipython3",

   "version": "3.12.10"

  }
 },
 "nbformat": 4,
 "nbformat_minor": 5
}

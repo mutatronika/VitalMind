{
 "cells": [
  {
   "cell_type": "code",
   "execution_count": null,
   "id": "4fe6ca1b",
   "metadata": {},
   "outputs": [],
   "source": [
    "from semantic_kernel import __version__\n",
    "\n",
    "__version__"
   ]
  },
  {
   "cell_type": "code",
   "execution_count": null,
   "id": "29553597",
   "metadata": {},
   "outputs": [],
   "source": [
    "SERP_API_KEY='SERPAPI_SEARCH_API_KEY'"
   ]
  },
  {
   "cell_type": "code",
   "execution_count": null,
   "id": "353da9c3",
   "metadata": {},
   "outputs": [],
   "source": [
    "BASE_URL = 'https://serpapi.com/search?engine=bing'"
   ]
  },
  {
   "cell_type": "code",
   "execution_count": null,
   "id": "f6a04c2c",
   "metadata": {},
   "outputs": [],
   "source": [
    "import pandas as pd\n",
    "from azure.identity.aio import DefaultAzureCredential\n",
    "from azure.ai.projects.models import FileSearchTool, OpenAIFile, VectorStore\n",
    "from semantic_kernel.agents import AzureAIAgent, AzureAIAgentThread\n",
    "from blood_pressure_plugin import BloodPressurePlugin  # Tu plugin personalizado"
   ]
  },
  {
   "cell_type": "code",
   "execution_count": null,
   "id": "aec225ec",
   "metadata": {},
   "outputs": [],
   "source": [
    "\n",
    "\n",
    "async def main():\n",
    "    async with (\n",
    "        DefaultAzureCredential() as creds,\n",
    "        AzureAIAgent.create_client(credential=creds) as client,\n",
    "    ):\n",
    "        # Subir archivo con información médica\n",
    "        file: OpenAIFile = await client.agents.upload_file_and_poll(\n",
    "            file_path=\"clinical_bp_guidelines.md\", purpose=\"assistants\"\n",
    "        )\n",
    "\n",
    "        # Crear vector store con el archivo\n",
    "        vector_store: VectorStore = await client.agents.create_vector_store_and_poll(\n",
    "            file_ids=[file.id], name=\"bp_vector_store\"\n",
    "        )\n",
    "\n",
    "        # Instrucciones del agente especializado en presión arterial\n",
    "        AGENT_NAME = \"BloodPressureRAGAgent\"\n",
    "        AGENT_INSTRUCTIONS = \"\"\"\n",
    "        Eres un asistente experto en presión arterial. Sólo puedes responder preguntas usando información del documento cargado.\n",
    "\n",
    "        - Si la pregunta no tiene soporte en el documento, responde: \"Lo siento, el documento no contiene suficiente información para responder eso.\"\n",
    "        - No uses conocimiento externo, no asumas ni generes respuestas hipotéticas.\n",
    "        - Responde de forma concisa y clínica cuando sea relevante.\n",
    "        \"\"\"\n",
    "\n",
    "        # Crear herramienta de búsqueda basada en archivo\n",
    "        file_search = FileSearchTool(vector_store_ids=[vector_store.id])\n",
    "\n",
    "        # Crear definición del agente\n",
    "        agent_definition = await client.agents.create_agent(\n",
    "            model=\"gpt-4o\",\n",
    "            name=AGENT_NAME,\n",
    "            instructions=AGENT_INSTRUCTIONS,\n",
    "            tools=file_search.definitions,\n",
    "            tool_resources=file_search.resources,\n",
    "        )\n",
    "\n",
    "        # ✅ Crear instancia del plugin personalizado\n",
    "        plugin = BloodPressurePlugin()\n",
    "\n",
    "        # Crear instancia del agente con el plugin incluido\n",
    "        agent = AzureAIAgent(\n",
    "            client=client,\n",
    "            definition=agent_definition,\n",
    "            plugins=[plugin]  # Se puede agregar más de un plugin si lo deseas\n",
    "        )\n",
    "\n",
    "        thread: AzureAIAgentThread | None = None\n",
    "\n",
    "        # Preguntas de prueba\n",
    "        user_inputs = [\n",
    "            \"¿Cuál es el rango normal de presión arterial según el documento?\",\n",
    "            \"¿Cuáles son los factores que afectan la presión sistólica?\",\n",
    "            \"Predice presión arterial para 5 pacientes sintéticos.\"\n",
    "            \"Genera 20 registros de datos de presión arterial y guárdalos en un CSV llamado 'bp_sintetico.csv'\",\n",
    "            \"Dame 5 ejemplos de pacientes con presión alta y nivel de estrés alto\",\n",
    "            \"Genera datos para modelar la presión arterial de mujeres de 40 años\",\n",
    "            \"Quiero simular registros clínicos de 100 personas\"\n",
    "        ]\n",
    "\n",
    "        try:\n",
    "            for user_input in user_inputs:\n",
    "                print(f\"\\n# Usuario: {user_input}\")\n",
    "                async for response in agent.invoke(messages=user_input, thread=thread):\n",
    "                    print(f\"# {response.name}: {response}\")\n",
    "                    thread = response.thread\n",
    "        finally:\n",
    "            await thread.delete() if thread else None\n",
    "            await client.agents.delete_vector_store(vector_store.id)\n",
    "            await client.agents.delete_file(file.id)\n",
    "            await client.agents.delete_agent(agent.id)\n",
    "            print(\"\\n🧹 Limpieza completada: agente, archivo, vector store y thread eliminados.\")\n",
    "\n",
    "# Ejecutar\n",
    "await main()\n"
   ]
  }
 ],
 "metadata": {
  "kernelspec": {
   "display_name": ".venv",
   "language": "python",
   "name": "python3"
  },
  "language_info": {
   "codemirror_mode": {
    "name": "ipython",
    "version": 3
   },
   "file_extension": ".py",
   "mimetype": "text/x-python",
   "name": "python",
   "nbconvert_exporter": "python",
   "pygments_lexer": "ipython3",
   "version": "3.13.2"
  }
 },
 "nbformat": 4,
 "nbformat_minor": 5
}
